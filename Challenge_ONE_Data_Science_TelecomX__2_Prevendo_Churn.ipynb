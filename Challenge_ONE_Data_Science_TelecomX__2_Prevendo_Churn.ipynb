{
  "nbformat": 4,
  "nbformat_minor": 0,
  "metadata": {
    "colab": {
      "provenance": [],
      "authorship_tag": "ABX9TyNlTK7wyC+LmKeEnl92T17T",
      "include_colab_link": true
    },
    "kernelspec": {
      "name": "python3",
      "display_name": "Python 3"
    },
    "language_info": {
      "name": "python"
    }
  },
  "cells": [
    {
      "cell_type": "markdown",
      "metadata": {
        "id": "view-in-github",
        "colab_type": "text"
      },
      "source": [
        "<a href=\"https://colab.research.google.com/github/fggrava/Challenge_ONE_Data_Science_TelecomX-_2---Prevendo-Churn/blob/main/Challenge_ONE_Data_Science_TelecomX__2_Prevendo_Churn.ipynb\" target=\"_parent\"><img src=\"https://colab.research.google.com/assets/colab-badge.svg\" alt=\"Open In Colab\"/></a>"
      ]
    },
    {
      "cell_type": "code",
      "execution_count": 3,
      "metadata": {
        "colab": {
          "base_uri": "https://localhost:8080/"
        },
        "id": "14veLoo_9rd1",
        "outputId": "acf06a9e-59b9-405a-bd04-1db453ea4878"
      },
      "outputs": [
        {
          "output_type": "stream",
          "name": "stdout",
          "text": [
            "Resumo estatístico:\n",
            "       customer_tenure  account_Charges_Monthly  account_Charges_Total  \\\n",
            "count      7256.000000              7256.000000            7256.000000   \n",
            "mean         32.395535                64.755423            2280.634213   \n",
            "std          24.558067                30.125739            2268.632997   \n",
            "min           1.000000                18.250000              18.800000   \n",
            "25%           9.000000                35.450000             400.225000   \n",
            "50%          29.000000                70.300000            1391.000000   \n",
            "75%          55.000000                89.900000            3785.300000   \n",
            "max          72.000000               118.750000            8684.800000   \n",
            "\n",
            "       Contas_Diarias  qtd_servicos  \n",
            "count     7256.000000   7256.000000  \n",
            "mean         2.158467      2.034454  \n",
            "std          1.004282      1.848105  \n",
            "min          0.610000      0.000000  \n",
            "25%          1.180000      0.000000  \n",
            "50%          2.340000      2.000000  \n",
            "75%          3.000000      3.000000  \n",
            "max          3.960000      6.000000  \n"
          ]
        }
      ],
      "source": [
        "import pandas as pd\n",
        "import matplotlib.pyplot as plt\n",
        "import seaborn as sns\n",
        "\n",
        "# Carregar o dataset\n",
        "df = pd.read_csv('/content/TelecomX_Data_normalizado2.csv')\n",
        "\n",
        "# Conversão de tipos\n",
        "df['Churn'] = df['Churn'].astype(bool)\n",
        "df['customer_SeniorCitizen'] = df['customer_SeniorCitizen'].astype('category')\n",
        "df['customer_tenure'] = df['customer_tenure'].astype(int)\n",
        "df['account_Charges_Monthly'] = df['account_Charges_Monthly'].astype(float)\n",
        "df['account_Charges_Total'] = pd.to_numeric(df['account_Charges_Total'], errors='coerce')\n",
        "\n",
        "# Tratamento de valores ausentes\n",
        "df.dropna(subset=['account_Charges_Total'], inplace=True)\n",
        "\n",
        "\n",
        "# Estatísticas descritivas\n",
        "print(\"Resumo estatístico:\")\n",
        "print(df.describe())"
      ]
    }
  ]
}